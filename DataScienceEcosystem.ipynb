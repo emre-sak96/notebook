{
 "cells": [
  {
   "cell_type": "markdown",
   "id": "c890f5f5-986e-4450-a2ab-054c288b797d",
   "metadata": {},
   "source": [
    "# H1: Data Science Tools and Ecosystem "
   ]
  },
  {
   "cell_type": "code",
   "execution_count": null,
   "id": "e5e1c26b-facf-4a57-8db3-823c32bf5abb",
   "metadata": {},
   "outputs": [],
   "source": [
    "In this notebook, Data Science Tools and Ecosystem are summarized.\n",
    "\n"
   ]
  },
  {
   "cell_type": "markdown",
   "id": "665fe4c8-5b72-4a5f-b09d-5271b50d652b",
   "metadata": {},
   "source": [
    "**Objectives:**\n",
    "\n",
    "- Python\n",
    "- Java\n",
    "- SQL\n",
    "- Julia\n",
    "- Scala\n",
    "\n"
   ]
  },
  {
   "cell_type": "markdown",
   "id": "5d745605-cec4-4665-8452-63b221e57dd7",
   "metadata": {},
   "source": [
    "1. Python \n",
    "2.  SQL \n",
    "3. Julia \n",
    "4. R "
   ]
  },
  {
   "cell_type": "markdown",
   "id": "8975c30d-ae1b-4f0e-be73-8d7a5a10f333",
   "metadata": {},
   "source": [
    "1. Pandas\n",
    "2. NumbPy\n",
    "3. SciPy"
   ]
  },
  {
   "cell_type": "markdown",
   "id": "a2a2db4c-6f61-435a-b3af-cfce65e62f43",
   "metadata": {},
   "source": [
    "\n",
    "| Data Science Tools | \n",
    "| -------------|\n",
    "| Visual Studio Code |\n",
    "| Jupyter Notebook |\n",
    "| R Studio |"
   ]
  },
  {
   "cell_type": "markdown",
   "id": "d1ede7d6-693c-4206-8265-5aefaef84d05",
   "metadata": {},
   "source": [
    "# H3:Below are a few examples of evaluating arithmetic expressions in Python"
   ]
  },
  {
   "cell_type": "code",
   "execution_count": 21,
   "id": "366b4649-e93f-44df-817e-4f4670b53087",
   "metadata": {},
   "outputs": [
    {
     "data": {
      "text/plain": [
       "17"
      ]
     },
     "execution_count": 21,
     "metadata": {},
     "output_type": "execute_result"
    }
   ],
   "source": [
    "# This a simple arithmetic expression to mutiply then add integers\n",
    "(3*4)+5"
   ]
  },
  {
   "cell_type": "code",
   "execution_count": 23,
   "id": "bd258256-9b13-460f-a6f2-361bd88c3f4a",
   "metadata": {},
   "outputs": [
    {
     "data": {
      "text/plain": [
       "3.3333333333333335"
      ]
     },
     "execution_count": 23,
     "metadata": {},
     "output_type": "execute_result"
    }
   ],
   "source": [
    "# This will convert 200 minutes to hours by diving by 60\n",
    "200/60"
   ]
  },
  {
   "cell_type": "markdown",
   "id": "853a34b2-f1f6-4d15-bfed-dd89dbb99bc4",
   "metadata": {},
   "source": [
    "\n",
    "## Author\n",
    "Emre Sak"
   ]
  },
  {
   "cell_type": "code",
   "execution_count": null,
   "id": "f5c8771f-7953-4f4d-b410-0865c0ae5aea",
   "metadata": {},
   "outputs": [],
   "source": []
  }
 ],
 "metadata": {
  "kernelspec": {
   "display_name": "Python 3 (ipykernel)",
   "language": "python",
   "name": "python3"
  },
  "language_info": {
   "codemirror_mode": {
    "name": "ipython",
    "version": 3
   },
   "file_extension": ".py",
   "mimetype": "text/x-python",
   "name": "python",
   "nbconvert_exporter": "python",
   "pygments_lexer": "ipython3",
   "version": "3.12.4"
  }
 },
 "nbformat": 4,
 "nbformat_minor": 5
}
